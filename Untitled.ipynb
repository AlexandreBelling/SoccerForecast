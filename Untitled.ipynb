{
 "cells": [
  {
   "cell_type": "code",
   "execution_count": 1,
   "metadata": {},
   "outputs": [],
   "source": [
    "from Web_interface.who_scored_browser import WSUrlRobot, URL_TOURNAMENT_TEST, URL_SEASON_TEST\n",
    "#.python_application.whoscored.tournament_url_parser import TournamentUrlParser"
   ]
  },
  {
   "cell_type": "code",
   "execution_count": 3,
   "metadata": {
    "scrolled": false
   },
   "outputs": [],
   "source": [
    "webrobot = WSUrlRobot()\n",
    "# tournament_url_list = webrobot.get_tournament_url()\n",
    "# season_url_list = webrobot.get_season_url(URL_TOURNAMENT_TEST)\n"
   ]
  },
  {
   "cell_type": "code",
   "execution_count": 4,
   "metadata": {},
   "outputs": [
    {
     "ename": "AttributeError",
     "evalue": "'WSUrlRobot' object has no attribute 'parse_unretrieved_matched'",
     "output_type": "error",
     "traceback": [
      "\u001b[0;31m---------------------------------------------------------------------------\u001b[0m",
      "\u001b[0;31mAttributeError\u001b[0m                            Traceback (most recent call last)",
      "\u001b[0;32m<ipython-input-4-b6309129c0ff>\u001b[0m in \u001b[0;36m<module>\u001b[0;34m()\u001b[0m\n\u001b[0;32m----> 1\u001b[0;31m \u001b[0mwebrobot\u001b[0m\u001b[0;34m.\u001b[0m\u001b[0mparse_unretrieved_matched\u001b[0m\u001b[0;34m(\u001b[0m\u001b[0mURL_SEASON_TEST\u001b[0m\u001b[0;34m)\u001b[0m\u001b[0;34m\u001b[0m\u001b[0m\n\u001b[0m",
      "\u001b[0;31mAttributeError\u001b[0m: 'WSUrlRobot' object has no attribute 'parse_unretrieved_matched'"
     ]
    }
   ],
   "source": [
    "webrobot.parse_unretrieved_matched(URL_SEASON_TEST)"
   ]
  },
  {
   "cell_type": "code",
   "execution_count": 4,
   "metadata": {},
   "outputs": [
    {
     "name": "stdout",
     "output_type": "stream",
     "text": [
      "-----------\n",
      "Essai 0\n",
      "-----------\n",
      "[['https://fr.whoscored.com/Matches/960898/MatchReport/France-Ligue-1-2015-2016-Bordeaux-Paris-Saint-Germain', 'https://fr.whoscored.com/Matches/960901/MatchReport/France-Ligue-1-2015-2016-Monaco-Montpellier', 'https://fr.whoscored.com/Matches/960905/MatchReport/France-Ligue-1-2015-2016-Saint-Etienne-Lille', 'https://fr.whoscored.com/Matches/960908/MatchReport/France-Ligue-1-2015-2016-Guingamp-Nice', 'https://fr.whoscored.com/Matches/960910/MatchReport/France-Ligue-1-2015-2016-Troyes-Marseille', 'https://fr.whoscored.com/Matches/960913/MatchReport/France-Ligue-1-2015-2016-Lorient-GFC-Ajaccio', 'https://fr.whoscored.com/Matches/960914/MatchReport/France-Ligue-1-2015-2016-Paris-Saint-Germain-Nantes', 'https://fr.whoscored.com/Matches/960915/MatchReport/France-Ligue-1-2015-2016-Caen-Bordeaux', 'https://fr.whoscored.com/Matches/960916/MatchReport/France-Ligue-1-2015-2016-Reims-Lyon', 'https://fr.whoscored.com/Matches/960917/MatchReport/France-Ligue-1-2015-2016-Rennes-SC-Bastia', 'https://fr.whoscored.com/Matches/960897/MatchReport/France-Ligue-1-2015-2016-Angers-Toulouse']]\n",
      "-----------\n",
      "Essai 1\n",
      "-----------\n",
      "[['https://fr.whoscored.com/Matches/960880/MatchReport/France-Ligue-1-2015-2016-Nice-Saint-Etienne', 'https://fr.whoscored.com/Matches/960883/MatchReport/France-Ligue-1-2015-2016-Marseille-Reims', 'https://fr.whoscored.com/Matches/960886/MatchReport/France-Ligue-1-2015-2016-Lyon-Monaco', 'https://fr.whoscored.com/Matches/960889/MatchReport/France-Ligue-1-2015-2016-SC-Bastia-Angers', 'https://fr.whoscored.com/Matches/960893/MatchReport/France-Ligue-1-2015-2016-Toulouse-Troyes', 'https://fr.whoscored.com/Matches/960865/MatchReport/France-Ligue-1-2015-2016-Bordeaux-Lorient', 'https://fr.whoscored.com/Matches/960868/MatchReport/France-Ligue-1-2015-2016-Nantes-Caen', 'https://fr.whoscored.com/Matches/960871/MatchReport/France-Ligue-1-2015-2016-GFC-Ajaccio-Paris-Saint-Germain', 'https://fr.whoscored.com/Matches/960874/MatchReport/France-Ligue-1-2015-2016-Lille-Guingamp', 'https://fr.whoscored.com/Matches/960877/MatchReport/France-Ligue-1-2015-2016-Montpellier-Rennes']]\n",
      "-----------\n",
      "Essai 2\n",
      "-----------\n",
      "[['https://fr.whoscored.com/Matches/960862/MatchReport/France-Ligue-1-2015-2016-Lille-Angers', 'https://fr.whoscored.com/Matches/960904/MatchReport/France-Ligue-1-2015-2016-Paris-Saint-Germain-Rennes', 'https://fr.whoscored.com/Matches/960896/MatchReport/France-Ligue-1-2015-2016-Nantes-Nice', 'https://fr.whoscored.com/Matches/960885/MatchReport/France-Ligue-1-2015-2016-Saint-Etienne-Toulouse', 'https://fr.whoscored.com/Matches/960888/MatchReport/France-Ligue-1-2015-2016-Troyes-Bordeaux', 'https://fr.whoscored.com/Matches/960882/MatchReport/France-Ligue-1-2015-2016-Monaco-Guingamp', 'https://fr.whoscored.com/Matches/960863/MatchReport/France-Ligue-1-2015-2016-Reims-Montpellier', 'https://fr.whoscored.com/Matches/960892/MatchReport/France-Ligue-1-2015-2016-Lorient-Lille', 'https://fr.whoscored.com/Matches/960907/MatchReport/France-Ligue-1-2015-2016-Caen-SC-Bastia', 'https://fr.whoscored.com/Matches/960900/MatchReport/France-Ligue-1-2015-2016-Lyon-GFC-Ajaccio', 'https://fr.whoscored.com/Matches/960879/MatchReport/France-Ligue-1-2015-2016-Angers-Marseille']]\n",
      "-----------\n",
      "Essai 3\n",
      "-----------\n",
      "[['https://fr.whoscored.com/Matches/960867/MatchReport/France-Ligue-1-2015-2016-Nice-Reims', 'https://fr.whoscored.com/Matches/960876/MatchReport/France-Ligue-1-2015-2016-Toulouse-Lyon', 'https://fr.whoscored.com/Matches/960870/MatchReport/France-Ligue-1-2015-2016-Marseille-Nantes', 'https://fr.whoscored.com/Matches/960890/MatchReport/France-Ligue-1-2015-2016-Saint-Etienne-Lorient', 'https://fr.whoscored.com/Matches/960894/MatchReport/France-Ligue-1-2015-2016-Guingamp-Caen', 'https://fr.whoscored.com/Matches/960902/MatchReport/France-Ligue-1-2015-2016-GFC-Ajaccio-SC-Bastia', 'https://fr.whoscored.com/Matches/960864/MatchReport/France-Ligue-1-2015-2016-Montpellier-Troyes', 'https://fr.whoscored.com/Matches/960873/MatchReport/France-Ligue-1-2015-2016-Rennes-Monaco']]\n",
      "-----------\n",
      "Essai 4\n",
      "-----------\n",
      "[['https://fr.whoscored.com/Matches/960878/MatchReport/France-Ligue-1-2015-2016-Lyon-Nice', 'https://fr.whoscored.com/Matches/960881/MatchReport/France-Ligue-1-2015-2016-Paris-Saint-Germain-Caen', 'https://fr.whoscored.com/Matches/960884/MatchReport/France-Ligue-1-2015-2016-SC-Bastia-Saint-Etienne', 'https://fr.whoscored.com/Matches/960866/MatchReport/France-Ligue-1-2015-2016-Bordeaux-Angers', 'https://fr.whoscored.com/Matches/960869/MatchReport/France-Ligue-1-2015-2016-Lorient-Toulouse', 'https://fr.whoscored.com/Matches/960875/MatchReport/France-Ligue-1-2015-2016-GFC-Ajaccio-Lille', 'https://fr.whoscored.com/Matches/960912/MatchReport/France-Ligue-1-2015-2016-Troyes-Reims', 'https://fr.whoscored.com/Matches/960872/MatchReport/France-Ligue-1-2015-2016-Nantes-Montpellier', 'https://fr.whoscored.com/Matches/960887/MatchReport/France-Ligue-1-2015-2016-Rennes-Guingamp', 'https://fr.whoscored.com/Matches/960911/MatchReport/France-Ligue-1-2015-2016-Monaco-Marseille']]\n"
     ]
    }
   ],
   "source": [
    "webrobot.parse_match_on_entire_season(URL_SEASON_TEST)"
   ]
  },
  {
   "cell_type": "code",
   "execution_count": null,
   "metadata": {
    "collapsed": true
   },
   "outputs": [],
   "source": [
    "webrobot.quit()"
   ]
  }
 ],
 "metadata": {
  "kernelspec": {
   "display_name": "Python 3",
   "language": "python",
   "name": "python3"
  },
  "language_info": {
   "codemirror_mode": {
    "name": "ipython",
    "version": 3
   },
   "file_extension": ".py",
   "mimetype": "text/x-python",
   "name": "python",
   "nbconvert_exporter": "python",
   "pygments_lexer": "ipython3",
   "version": "3.5.2"
  }
 },
 "nbformat": 4,
 "nbformat_minor": 2
}
